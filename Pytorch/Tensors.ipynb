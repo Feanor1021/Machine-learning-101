{
 "cells": [
  {
   "cell_type": "markdown",
   "id": "4878340f",
   "metadata": {},
   "source": [
    "# Imports"
   ]
  },
  {
   "cell_type": "code",
   "execution_count": 2,
   "id": "221a4b9b",
   "metadata": {},
   "outputs": [],
   "source": [
    "import torch\n",
    "import seaborn as sns\n",
    "import numpy as np"
   ]
  },
  {
   "cell_type": "markdown",
   "id": "0344709c",
   "metadata": {},
   "source": [
    "#### Create a tensor"
   ]
  },
  {
   "cell_type": "code",
   "execution_count": 4,
   "id": "5fe59c9a",
   "metadata": {},
   "outputs": [
    {
     "name": "stdout",
     "output_type": "stream",
     "text": [
      "<class 'torch.Tensor'>\n"
     ]
    }
   ],
   "source": [
    "x =torch.tensor(5.5)\n",
    "print(type(x))"
   ]
  },
  {
   "cell_type": "markdown",
   "id": "31cee91d",
   "metadata": {},
   "source": [
    "#### Simple calculations"
   ]
  },
  {
   "cell_type": "code",
   "execution_count": 8,
   "id": "0c4659a5",
   "metadata": {},
   "outputs": [
    {
     "name": "stdout",
     "output_type": "stream",
     "text": [
      "tensor(15.5000)\n"
     ]
    }
   ],
   "source": [
    "y = x + 10\n",
    "print(y)"
   ]
  },
  {
   "cell_type": "markdown",
   "id": "ed0bed7d",
   "metadata": {},
   "source": [
    "#### Automatic gradient calculation"
   ]
  },
  {
   "cell_type": "code",
   "execution_count": 10,
   "id": "5d3a8e35",
   "metadata": {},
   "outputs": [
    {
     "name": "stdout",
     "output_type": "stream",
     "text": [
      "False\n"
     ]
    },
    {
     "data": {
      "text/plain": [
       "tensor(5.5000, requires_grad=True)"
      ]
     },
     "execution_count": 10,
     "metadata": {},
     "output_type": "execute_result"
    }
   ],
   "source": [
    "print(x.requires_grad)\n",
    "x.requires_grad_()"
   ]
  },
  {
   "cell_type": "markdown",
   "id": "785eab34",
   "metadata": {},
   "source": [
    "For open the automatic grad you need set the requires_grad to true."
   ]
  },
  {
   "cell_type": "code",
   "execution_count": 12,
   "id": "bc95fd4e",
   "metadata": {},
   "outputs": [
    {
     "name": "stdout",
     "output_type": "stream",
     "text": [
      "True\n"
     ]
    }
   ],
   "source": [
    "x = torch.tensor(2.0, requires_grad = True)\n",
    "print(x.requires_grad)"
   ]
  },
  {
   "cell_type": "markdown",
   "id": "eb1b44b7",
   "metadata": {},
   "source": [
    "#### Function for showing automatic gradient calculation"
   ]
  },
  {
   "cell_type": "code",
   "execution_count": 19,
   "id": "735c962e",
   "metadata": {},
   "outputs": [
    {
     "data": {
      "text/plain": [
       "array([ 0. ,  0.1,  0.2,  0.3,  0.4,  0.5,  0.6,  0.7,  0.8,  0.9,  1. ,\n",
       "        1.1,  1.2,  1.3,  1.4,  1.5,  1.6,  1.7,  1.8,  1.9,  2. ,  2.1,\n",
       "        2.2,  2.3,  2.4,  2.5,  2.6,  2.7,  2.8,  2.9,  3. ,  3.1,  3.2,\n",
       "        3.3,  3.4,  3.5,  3.6,  3.7,  3.8,  3.9,  4. ,  4.1,  4.2,  4.3,\n",
       "        4.4,  4.5,  4.6,  4.7,  4.8,  4.9,  5. ,  5.1,  5.2,  5.3,  5.4,\n",
       "        5.5,  5.6,  5.7,  5.8,  5.9,  6. ,  6.1,  6.2,  6.3,  6.4,  6.5,\n",
       "        6.6,  6.7,  6.8,  6.9,  7. ,  7.1,  7.2,  7.3,  7.4,  7.5,  7.6,\n",
       "        7.7,  7.8,  7.9,  8. ,  8.1,  8.2,  8.3,  8.4,  8.5,  8.6,  8.7,\n",
       "        8.8,  8.9,  9. ,  9.1,  9.2,  9.3,  9.4,  9.5,  9.6,  9.7,  9.8,\n",
       "        9.9, 10. ])"
      ]
     },
     "execution_count": 19,
     "metadata": {},
     "output_type": "execute_result"
    }
   ],
   "source": [
    "def y_function(val):\n",
    "    return (val - 3) * (val - 6) * (val - 4)\n",
    "\n",
    "x_range = np.linspace(0, 10, 101)\n",
    "x_range"
   ]
  },
  {
   "cell_type": "code",
   "execution_count": 24,
   "id": "b2743df2",
   "metadata": {},
   "outputs": [
    {
     "data": {
      "text/plain": [
       "<AxesSubplot:>"
      ]
     },
     "execution_count": 24,
     "metadata": {},
     "output_type": "execute_result"
    },
    {
     "data": {
      "image/png": "[encoded data removed]",
      "text/plain": [
       "<Figure size 640x480 with 1 Axes>"
      ]
     },
     "metadata": {},
     "output_type": "display_data"
    }
   ],
   "source": [
    "y_range = [y_function(i) for i in x_range]\n",
    "sns.lineplot(x = x_range, y = y_range)"
   ]
  },
  {
   "cell_type": "markdown",
   "id": "b2f9c039",
   "metadata": {},
   "source": [
    "#### Dfine y as function of x"
   ]
  },
  {
   "cell_type": "code",
   "execution_count": 25,
   "id": "908ee454",
   "metadata": {},
   "outputs": [
    {
     "name": "stdout",
     "output_type": "stream",
     "text": [
      "tensor(-8., grad_fn=<MulBackward0>)\n"
     ]
    }
   ],
   "source": [
    "y = (x - 3) * (x - 6) * (x - 4)\n",
    "print(y)"
   ]
  },
  {
   "cell_type": "markdown",
   "id": "d46d5caf",
   "metadata": {},
   "source": [
    "#### x -> y\n",
    "#### create a tensor with gradients enabled"
   ]
  },
  {
   "cell_type": "code",
   "execution_count": 39,
   "id": "30abd973",
   "metadata": {},
   "outputs": [],
   "source": [
    "x = torch.tensor(1.0, requires_grad = True)"
   ]
  },
  {
   "cell_type": "markdown",
   "id": "aba7f445",
   "metadata": {},
   "source": [
    "#### Create second tensor depending on first tensor"
   ]
  },
  {
   "cell_type": "code",
   "execution_count": 40,
   "id": "bcaa33cd",
   "metadata": {},
   "outputs": [],
   "source": [
    "y = (x - 3) * (x - 6) * (x - 4)"
   ]
  },
  {
   "cell_type": "markdown",
   "id": "636fa7b5",
   "metadata": {},
   "source": [
    "#### Calculate gradients"
   ]
  },
  {
   "cell_type": "code",
   "execution_count": 41,
   "id": "793a45f9",
   "metadata": {},
   "outputs": [
    {
     "name": "stdout",
     "output_type": "stream",
     "text": [
      "tensor(31.)\n"
     ]
    }
   ],
   "source": [
    "y.backward()\n",
    "# Show gradients of first tensor\n",
    "print(x.grad)"
   ]
  },
  {
   "cell_type": "markdown",
   "id": "cbead177",
   "metadata": {},
   "source": [
    "#### x -> y -> z"
   ]
  },
  {
   "cell_type": "code",
   "execution_count": 44,
   "id": "28a7a83f",
   "metadata": {},
   "outputs": [],
   "source": [
    "x = torch.tensor(1.0, requires_grad = True)\n",
    "y = x**3\n",
    "z = 5*y - 4"
   ]
  },
  {
   "cell_type": "code",
   "execution_count": 45,
   "id": "02d09527",
   "metadata": {},
   "outputs": [
    {
     "name": "stdout",
     "output_type": "stream",
     "text": [
      "tensor(15.)\n"
     ]
    }
   ],
   "source": [
    "z.backward()\n",
    "print(x.grad) # should be equal to 5*3x**2"
   ]
  },
  {
   "cell_type": "markdown",
   "id": "9be5f05a",
   "metadata": {},
   "source": [
    "#### More complex network"
   ]
  },
  {
   "cell_type": "code",
   "execution_count": 46,
   "id": "1d2fede7",
   "metadata": {},
   "outputs": [
    {
     "name": "stdout",
     "output_type": "stream",
     "text": [
      "tensor(44.)\n",
      "tensor(-6.)\n"
     ]
    }
   ],
   "source": [
    "x11 = torch.tensor(2.0, requires_grad = True)\n",
    "x21 = torch.tensor(3.0, requires_grad = True)\n",
    "x12 = 5 * x11 - 3 * x21\n",
    "x22 = 2 * x11**2 + 2 * x21\n",
    "y = 4 * x12 + 3 * x22\n",
    "y.backward()\n",
    "print(x11.grad)\n",
    "print(x21.grad)"
   ]
  }
 ],
 "metadata": {
  "kernelspec": {
   "display_name": "Python 3 (ipykernel)",
   "language": "python",
   "name": "python3"
  },
  "language_info": {
   "codemirror_mode": {
    "name": "ipython",
    "version": 3
   },
   "file_extension": ".py",
   "mimetype": "text/x-python",
   "name": "python",
   "nbconvert_exporter": "python",
   "pygments_lexer": "ipython3",
   "version": "3.9.13"
  }
 },
 "nbformat": 4,
 "nbformat_minor": 5
}

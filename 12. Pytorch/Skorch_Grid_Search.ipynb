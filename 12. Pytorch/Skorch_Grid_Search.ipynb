{
 "cells": [
  {
   "cell_type": "markdown",
   "id": "72978cdc",
   "metadata": {},
   "source": [
    "## Imports"
   ]
  },
  {
   "cell_type": "code",
   "execution_count": 1,
   "id": "6b92a6b6",
   "metadata": {},
   "outputs": [],
   "source": [
    "import numpy as np\n",
    "import pandas as pd\n",
    "import torch\n",
    "import torch.nn as nn\n",
    "from torch.utils.data import Dataset, DataLoader\n",
    "import seaborn as sns\n",
    "from skorch import NeuralNetRegressor\n",
    "from sklearn.model_selection import GridSearchCV"
   ]
  },
  {
   "cell_type": "markdown",
   "id": "b904a6dc",
   "metadata": {},
   "source": [
    "## Data import"
   ]
  },
  {
   "cell_type": "code",
   "execution_count": 2,
   "id": "4c911e95",
   "metadata": {},
   "outputs": [
    {
     "data": {
      "text/html": [
       "<div>\n",
       "<style scoped>\n",
       "    .dataframe tbody tr th:only-of-type {\n",
       "        vertical-align: middle;\n",
       "    }\n",
       "\n",
       "    .dataframe tbody tr th {\n",
       "        vertical-align: top;\n",
       "    }\n",
       "\n",
       "    .dataframe thead th {\n",
       "        text-align: right;\n",
       "    }\n",
       "</style>\n",
       "<table border=\"1\" class=\"dataframe\">\n",
       "  <thead>\n",
       "    <tr style=\"text-align: right;\">\n",
       "      <th></th>\n",
       "      <th>Unnamed: 0</th>\n",
       "      <th>mpg</th>\n",
       "      <th>cyl</th>\n",
       "      <th>disp</th>\n",
       "      <th>hp</th>\n",
       "      <th>drat</th>\n",
       "      <th>wt</th>\n",
       "      <th>qsec</th>\n",
       "      <th>vs</th>\n",
       "      <th>am</th>\n",
       "      <th>gear</th>\n",
       "      <th>carb</th>\n",
       "    </tr>\n",
       "  </thead>\n",
       "  <tbody>\n",
       "    <tr>\n",
       "      <th>0</th>\n",
       "      <td>Mazda RX4</td>\n",
       "      <td>21.0</td>\n",
       "      <td>6</td>\n",
       "      <td>160.0</td>\n",
       "      <td>110</td>\n",
       "      <td>3.90</td>\n",
       "      <td>2.620</td>\n",
       "      <td>16.46</td>\n",
       "      <td>0</td>\n",
       "      <td>1</td>\n",
       "      <td>4</td>\n",
       "      <td>4</td>\n",
       "    </tr>\n",
       "    <tr>\n",
       "      <th>1</th>\n",
       "      <td>Mazda RX4 Wag</td>\n",
       "      <td>21.0</td>\n",
       "      <td>6</td>\n",
       "      <td>160.0</td>\n",
       "      <td>110</td>\n",
       "      <td>3.90</td>\n",
       "      <td>2.875</td>\n",
       "      <td>17.02</td>\n",
       "      <td>0</td>\n",
       "      <td>1</td>\n",
       "      <td>4</td>\n",
       "      <td>4</td>\n",
       "    </tr>\n",
       "    <tr>\n",
       "      <th>2</th>\n",
       "      <td>Datsun 710</td>\n",
       "      <td>22.8</td>\n",
       "      <td>4</td>\n",
       "      <td>108.0</td>\n",
       "      <td>93</td>\n",
       "      <td>3.85</td>\n",
       "      <td>2.320</td>\n",
       "      <td>18.61</td>\n",
       "      <td>1</td>\n",
       "      <td>1</td>\n",
       "      <td>4</td>\n",
       "      <td>1</td>\n",
       "    </tr>\n",
       "    <tr>\n",
       "      <th>3</th>\n",
       "      <td>Hornet 4 Drive</td>\n",
       "      <td>21.4</td>\n",
       "      <td>6</td>\n",
       "      <td>258.0</td>\n",
       "      <td>110</td>\n",
       "      <td>3.08</td>\n",
       "      <td>3.215</td>\n",
       "      <td>19.44</td>\n",
       "      <td>1</td>\n",
       "      <td>0</td>\n",
       "      <td>3</td>\n",
       "      <td>1</td>\n",
       "    </tr>\n",
       "    <tr>\n",
       "      <th>4</th>\n",
       "      <td>Hornet Sportabout</td>\n",
       "      <td>18.7</td>\n",
       "      <td>8</td>\n",
       "      <td>360.0</td>\n",
       "      <td>175</td>\n",
       "      <td>3.15</td>\n",
       "      <td>3.440</td>\n",
       "      <td>17.02</td>\n",
       "      <td>0</td>\n",
       "      <td>0</td>\n",
       "      <td>3</td>\n",
       "      <td>2</td>\n",
       "    </tr>\n",
       "    <tr>\n",
       "      <th>5</th>\n",
       "      <td>Valiant</td>\n",
       "      <td>18.1</td>\n",
       "      <td>6</td>\n",
       "      <td>225.0</td>\n",
       "      <td>105</td>\n",
       "      <td>2.76</td>\n",
       "      <td>3.460</td>\n",
       "      <td>20.22</td>\n",
       "      <td>1</td>\n",
       "      <td>0</td>\n",
       "      <td>3</td>\n",
       "      <td>1</td>\n",
       "    </tr>\n",
       "    <tr>\n",
       "      <th>6</th>\n",
       "      <td>Duster 360</td>\n",
       "      <td>14.3</td>\n",
       "      <td>8</td>\n",
       "      <td>360.0</td>\n",
       "      <td>245</td>\n",
       "      <td>3.21</td>\n",
       "      <td>3.570</td>\n",
       "      <td>15.84</td>\n",
       "      <td>0</td>\n",
       "      <td>0</td>\n",
       "      <td>3</td>\n",
       "      <td>4</td>\n",
       "    </tr>\n",
       "    <tr>\n",
       "      <th>7</th>\n",
       "      <td>Merc 240D</td>\n",
       "      <td>24.4</td>\n",
       "      <td>4</td>\n",
       "      <td>146.7</td>\n",
       "      <td>62</td>\n",
       "      <td>3.69</td>\n",
       "      <td>3.190</td>\n",
       "      <td>20.00</td>\n",
       "      <td>1</td>\n",
       "      <td>0</td>\n",
       "      <td>4</td>\n",
       "      <td>2</td>\n",
       "    </tr>\n",
       "    <tr>\n",
       "      <th>8</th>\n",
       "      <td>Merc 230</td>\n",
       "      <td>22.8</td>\n",
       "      <td>4</td>\n",
       "      <td>140.8</td>\n",
       "      <td>95</td>\n",
       "      <td>3.92</td>\n",
       "      <td>3.150</td>\n",
       "      <td>22.90</td>\n",
       "      <td>1</td>\n",
       "      <td>0</td>\n",
       "      <td>4</td>\n",
       "      <td>2</td>\n",
       "    </tr>\n",
       "    <tr>\n",
       "      <th>9</th>\n",
       "      <td>Merc 280</td>\n",
       "      <td>19.2</td>\n",
       "      <td>6</td>\n",
       "      <td>167.6</td>\n",
       "      <td>123</td>\n",
       "      <td>3.92</td>\n",
       "      <td>3.440</td>\n",
       "      <td>18.30</td>\n",
       "      <td>1</td>\n",
       "      <td>0</td>\n",
       "      <td>4</td>\n",
       "      <td>4</td>\n",
       "    </tr>\n",
       "  </tbody>\n",
       "</table>\n",
       "</div>"
      ],
      "text/plain": [
       "          Unnamed: 0   mpg  cyl   disp   hp  drat     wt   qsec  vs  am  gear  \\\n",
       "0          Mazda RX4  21.0    6  160.0  110  3.90  2.620  16.46   0   1     4   \n",
       "1      Mazda RX4 Wag  21.0    6  160.0  110  3.90  2.875  17.02   0   1     4   \n",
       "2         Datsun 710  22.8    4  108.0   93  3.85  2.320  18.61   1   1     4   \n",
       "3     Hornet 4 Drive  21.4    6  258.0  110  3.08  3.215  19.44   1   0     3   \n",
       "4  Hornet Sportabout  18.7    8  360.0  175  3.15  3.440  17.02   0   0     3   \n",
       "5            Valiant  18.1    6  225.0  105  2.76  3.460  20.22   1   0     3   \n",
       "6         Duster 360  14.3    8  360.0  245  3.21  3.570  15.84   0   0     3   \n",
       "7          Merc 240D  24.4    4  146.7   62  3.69  3.190  20.00   1   0     4   \n",
       "8           Merc 230  22.8    4  140.8   95  3.92  3.150  22.90   1   0     4   \n",
       "9           Merc 280  19.2    6  167.6  123  3.92  3.440  18.30   1   0     4   \n",
       "\n",
       "   carb  \n",
       "0     4  \n",
       "1     4  \n",
       "2     1  \n",
       "3     1  \n",
       "4     2  \n",
       "5     1  \n",
       "6     4  \n",
       "7     2  \n",
       "8     2  \n",
       "9     4  "
      ]
     },
     "execution_count": 2,
     "metadata": {},
     "output_type": "execute_result"
    }
   ],
   "source": [
    "cars_file = \"https://gist.githubusercontent.com/noamross/e5d3e859aa0c794be10b/raw/b999fb4425b54c63cab088c0ce2c0d6ce961a563/cars.csv\"\n",
    "cars = pd.read_csv(cars_file)\n",
    "cars.head(10)"
   ]
  },
  {
   "cell_type": "markdown",
   "id": "80f5ed44",
   "metadata": {},
   "source": [
    "#### Visualise the model"
   ]
  },
  {
   "cell_type": "code",
   "execution_count": 3,
   "id": "9f780b00",
   "metadata": {},
   "outputs": [
    {
     "data": {
      "text/plain": [
       "<AxesSubplot:xlabel='wt', ylabel='mpg'>"
      ]
     },
     "execution_count": 3,
     "metadata": {},
     "output_type": "execute_result"
    },
    {
     "data": {
      "image/png": "[encoded data removed]",
      "text/plain": [
       "<Figure size 640x480 with 1 Axes>"
      ]
     },
     "metadata": {},
     "output_type": "display_data"
    }
   ],
   "source": [
    "sns.scatterplot(x = \"wt\", y = \"mpg\", data = cars)\n",
    "sns.regplot(x = \"wt\", y = \"mpg\", data = cars)"
   ]
  },
  {
   "cell_type": "markdown",
   "id": "92fa30ab",
   "metadata": {},
   "source": [
    "#### Convert data to tensors"
   ]
  },
  {
   "cell_type": "code",
   "execution_count": 4,
   "id": "37a37b63",
   "metadata": {},
   "outputs": [],
   "source": [
    "x_list = cars.wt.values\n",
    "x_np = np.array(x_list, dtype = np.float32).reshape(-1, 1)\n",
    "y_list = cars.mpg.values\n",
    "y_np = np.array(y_list, dtype = np.float32).reshape(-1, 1)\n",
    "x = torch.from_numpy(x_np)\n",
    "y_true = torch.from_numpy(y_np)"
   ]
  },
  {
   "cell_type": "markdown",
   "id": "6ff3324a",
   "metadata": {},
   "source": [
    "## Dataset and Dataloader"
   ]
  },
  {
   "cell_type": "code",
   "execution_count": 5,
   "id": "2774d90f",
   "metadata": {},
   "outputs": [],
   "source": [
    "class LinearRegressionDataset(Dataset):\n",
    "    def __init__(self, x, y):\n",
    "        self.x = x\n",
    "        self.y = y\n",
    "        \n",
    "    def __len__(self):\n",
    "        return len(self.x)\n",
    "    \n",
    "    def __getitem__(self, idx):\n",
    "        return self.x[idx], self.y[idx]\n",
    "train_loader = DataLoader(dataset = LinearRegressionDataset(x_np, y_np), batch_size = 2)"
   ]
  },
  {
   "cell_type": "markdown",
   "id": "5b5640ca",
   "metadata": {},
   "source": [
    "## Model Class"
   ]
  },
  {
   "cell_type": "code",
   "execution_count": 6,
   "id": "7a9bd10b",
   "metadata": {},
   "outputs": [
    {
     "data": {
      "text/plain": [
       "LinearRegressionTorch(\n",
       "  (linear): Linear(in_features=1, out_features=1, bias=True)\n",
       "  (loss_fun): MSELoss()\n",
       ")"
      ]
     },
     "execution_count": 6,
     "metadata": {},
     "output_type": "execute_result"
    }
   ],
   "source": [
    "class LinearRegressionTorch(nn.Module):\n",
    "    def __init__(self, input_size, output_size, learning_rate):\n",
    "        super(LinearRegressionTorch, self).__init__() # Inherited from parent\n",
    "        self.linear = nn.Linear(input_size, output_size)\n",
    "        self.loss_fun = nn.MSELoss()\n",
    "        self.optimizer = torch.optim.SGD(self.parameters(), lr = learning_rate)\n",
    "        \n",
    "    def forward(self, x):\n",
    "        return self.linear(x) # Built-in method inherited from nn.Module\n",
    "\n",
    "input_dim = 1\n",
    "output_dim = 1\n",
    "LR = 0.02\n",
    "model = LinearRegressionTorch(input_size = input_dim, output_size = output_dim, learning_rate = LR)\n",
    "model.train()"
   ]
  },
  {
   "cell_type": "markdown",
   "id": "629fb9f4",
   "metadata": {},
   "source": [
    "## Hyperparameter Tuning"
   ]
  },
  {
   "cell_type": "code",
   "execution_count": 7,
   "id": "8ca56886",
   "metadata": {
    "scrolled": false
   },
   "outputs": [
    {
     "name": "stdout",
     "output_type": "stream",
     "text": [
      "Fitting 3 folds for each of 16 candidates, totalling 48 fits\n",
      "[CV] END .............................lr=0.02, max_epochs=10; total time=   0.0s\n",
      "[CV] END .............................lr=0.02, max_epochs=10; total time=   0.0s\n",
      "[CV] END .............................lr=0.02, max_epochs=10; total time=   0.0s\n",
      "[CV] END ............................lr=0.02, max_epochs=100; total time=   0.0s\n",
      "[CV] END ............................lr=0.02, max_epochs=100; total time=   0.0s\n",
      "[CV] END ............................lr=0.02, max_epochs=100; total time=   0.0s\n",
      "[CV] END ...........................lr=0.02, max_epochs=1000; total time=   0.0s\n",
      "[CV] END ...........................lr=0.02, max_epochs=1000; total time=   0.0s\n",
      "[CV] END ...........................lr=0.02, max_epochs=1000; total time=   0.0s\n",
      "[CV] END ...........................lr=0.02, max_epochs=5000; total time=   0.0s\n",
      "[CV] END ...........................lr=0.02, max_epochs=5000; total time=   0.0s\n",
      "[CV] END ...........................lr=0.02, max_epochs=5000; total time=   0.0s\n",
      "[CV] END ............................lr=0.002, max_epochs=10; total time=   0.0s\n",
      "[CV] END ............................lr=0.002, max_epochs=10; total time=   0.0s\n",
      "[CV] END ............................lr=0.002, max_epochs=10; total time=   0.0s\n",
      "[CV] END ...........................lr=0.002, max_epochs=100; total time=   0.0s\n",
      "[CV] END ...........................lr=0.002, max_epochs=100; total time=   0.0s\n",
      "[CV] END ...........................lr=0.002, max_epochs=100; total time=   0.0s\n",
      "[CV] END ..........................lr=0.002, max_epochs=1000; total time=   0.0s\n",
      "[CV] END ..........................lr=0.002, max_epochs=1000; total time=   0.0s\n",
      "[CV] END ..........................lr=0.002, max_epochs=1000; total time=   0.0s\n",
      "[CV] END ..........................lr=0.002, max_epochs=5000; total time=   0.0s\n",
      "[CV] END ..........................lr=0.002, max_epochs=5000; total time=   0.0s\n",
      "[CV] END ..........................lr=0.002, max_epochs=5000; total time=   0.0s\n",
      "[CV] END ............................lr=0.001, max_epochs=10; total time=   0.0s\n",
      "[CV] END ............................lr=0.001, max_epochs=10; total time=   0.0s\n",
      "[CV] END ............................lr=0.001, max_epochs=10; total time=   0.0s\n",
      "[CV] END ...........................lr=0.001, max_epochs=100; total time=   0.0s\n",
      "[CV] END ...........................lr=0.001, max_epochs=100; total time=   0.0s\n",
      "[CV] END ...........................lr=0.001, max_epochs=100; total time=   0.0s\n",
      "[CV] END ..........................lr=0.001, max_epochs=1000; total time=   0.0s\n",
      "[CV] END ..........................lr=0.001, max_epochs=1000; total time=   0.0s\n",
      "[CV] END ..........................lr=0.001, max_epochs=1000; total time=   0.0s\n",
      "[CV] END ..........................lr=0.001, max_epochs=5000; total time=   0.0s\n",
      "[CV] END ..........................lr=0.001, max_epochs=5000; total time=   0.0s\n",
      "[CV] END ..........................lr=0.001, max_epochs=5000; total time=   0.0s\n",
      "[CV] END ............................lr=0.005, max_epochs=10; total time=   0.0s\n",
      "[CV] END ............................lr=0.005, max_epochs=10; total time=   0.0s\n",
      "[CV] END ............................lr=0.005, max_epochs=10; total time=   0.0s\n",
      "[CV] END ...........................lr=0.005, max_epochs=100; total time=   0.0s\n",
      "[CV] END ...........................lr=0.005, max_epochs=100; total time=   0.0s\n",
      "[CV] END ...........................lr=0.005, max_epochs=100; total time=   0.0s\n",
      "[CV] END ..........................lr=0.005, max_epochs=1000; total time=   0.0s\n",
      "[CV] END ..........................lr=0.005, max_epochs=1000; total time=   0.0s\n",
      "[CV] END ..........................lr=0.005, max_epochs=1000; total time=   0.0s\n",
      "[CV] END ..........................lr=0.005, max_epochs=5000; total time=   0.0s\n",
      "[CV] END ..........................lr=0.005, max_epochs=5000; total time=   0.0s\n",
      "[CV] END ..........................lr=0.005, max_epochs=5000; total time=   0.0s\n"
     ]
    },
    {
     "name": "stderr",
     "output_type": "stream",
     "text": [
      "/home/furkan/anaconda3/lib/python3.9/site-packages/sklearn/model_selection/_validation.py:372: FitFailedWarning: \n",
      "48 fits failed out of a total of 48.\n",
      "The score on these train-test partitions for these parameters will be set to nan.\n",
      "If these failures are not expected, you can try to debug them by setting error_score='raise'.\n",
      "\n",
      "Below are more details about the failures:\n",
      "--------------------------------------------------------------------------------\n",
      "48 fits failed with the following error:\n",
      "Traceback (most recent call last):\n",
      "  File \"/home/furkan/anaconda3/lib/python3.9/site-packages/sklearn/model_selection/_validation.py\", line 680, in _fit_and_score\n",
      "    estimator.fit(X_train, y_train, **fit_params)\n",
      "  File \"/home/furkan/anaconda3/lib/python3.9/site-packages/skorch/regressor.py\", line 91, in fit\n",
      "    return super(NeuralNetRegressor, self).fit(X, y, **fit_params)\n",
      "  File \"/home/furkan/anaconda3/lib/python3.9/site-packages/skorch/net.py\", line 1228, in fit\n",
      "    self.initialize()\n",
      "  File \"/home/furkan/anaconda3/lib/python3.9/site-packages/skorch/net.py\", line 815, in initialize\n",
      "    self._initialize_module()\n",
      "  File \"/home/furkan/anaconda3/lib/python3.9/site-packages/skorch/net.py\", line 712, in _initialize_module\n",
      "    self.initialize_module()\n",
      "  File \"/home/furkan/anaconda3/lib/python3.9/site-packages/skorch/net.py\", line 564, in initialize_module\n",
      "    module = self.initialized_instance(self.module, kwargs)\n",
      "  File \"/home/furkan/anaconda3/lib/python3.9/site-packages/skorch/net.py\", line 541, in initialized_instance\n",
      "    return instance_or_cls(**kwargs)\n",
      "TypeError: __init__() missing 3 required positional arguments: 'input_size', 'output_size', and 'learning_rate'\n",
      "\n",
      "  warnings.warn(some_fits_failed_message, FitFailedWarning)\n",
      "/home/furkan/anaconda3/lib/python3.9/site-packages/sklearn/model_selection/_search.py:969: UserWarning: One or more of the test scores are non-finite: [nan nan nan nan nan nan nan nan nan nan nan nan nan nan nan nan]\n",
      "  warnings.warn(\n"
     ]
    },
    {
     "data": {
      "text/plain": [
       "GridSearchCV(cv=3,\n",
       "             estimator=<class 'skorch.regressor.NeuralNetRegressor'>[uninitialized](\n",
       "  module=<class '__main__.LinearRegressionTorch'>,\n",
       "),\n",
       "             param_grid={'lr': [0.02, 0.002, 0.001, 0.005],\n",
       "                         'max_epochs': [10, 100, 1000, 5000]},\n",
       "             refit=False, scoring='r2', verbose=2)"
      ]
     },
     "execution_count": 7,
     "metadata": {},
     "output_type": "execute_result"
    }
   ],
   "source": [
    "net = NeuralNetRegressor(LinearRegressionTorch,\n",
    "                        max_epochs = 10,\n",
    "                        lr = 0.1,\n",
    "                        # Shuffle training data on each epoch\n",
    "                        iterator_train_shuffle = True,\n",
    "                        )\n",
    "net.set_params(train_split = False, verbose = 1)\n",
    "params = {\n",
    "    \"lr\":[0.02, 0.002, 0.001, 0.005],\n",
    "    \"max_epochs\":[10, 100, 1000, 5000],\n",
    "}\n",
    "\n",
    "gs = GridSearchCV(net, params, refit = False, cv = 3, scoring = \"r2\", verbose = 2)\n",
    "gs.fit(x, y_true)"
   ]
  }
 ],
 "metadata": {
  "kernelspec": {
   "display_name": "Python 3 (ipykernel)",
   "language": "python",
   "name": "python3"
  },
  "language_info": {
   "codemirror_mode": {
    "name": "ipython",
    "version": 3
   },
   "file_extension": ".py",
   "mimetype": "text/x-python",
   "name": "python",
   "nbconvert_exporter": "python",
   "pygments_lexer": "ipython3",
   "version": "3.9.13"
  }
 },
 "nbformat": 4,
 "nbformat_minor": 5
}

{
 "cells": [
  {
   "cell_type": "markdown",
   "metadata": {
    "colab_type": "text",
    "id": "CazISR8X_HUG"
   },
   "source": [
    "# Multiple Linear Regression\n",
    "\n",
    "\n",
    "Multiple linear regression is used to estimate the relationship between two or more independent variables and one dependent variable. You can use multiple linear regression when you want to know:\n",
    "\n",
    "1. How strong the relationship is between two or more independent variables and one dependent variable (e.g. how rainfall, temperature, and amount of fertilizer added affect crop growth).\n",
    "\n",
    "2. The value of the dependent variable at a certain value of the independent variables (e.g. the expected yield of a crop at certain levels of rainfall, temperature, and fertilizer addition).\n",
    "\n",
    "It is just like the simple linear regression but in here corralation between the features and the dependent values are much more complex. Even though it is much more complex general structure of our code is not change much.\n",
    "\n",
    "When working with the multiple linear fetures there may be some problems. First, there may be any categorical value. As we know from before section, we have to encode our categorical datas. When we do that, if we hat 3 different categorical data we have to add 3 columns to our data set due to the onehotencoding method. If we put all the categorical encoded columns to our x_train data set there will be an error which is called as \"Dummy trap\"(https://www.geeksforgeeks.org/ml-dummy-variable-trap-in-regression-models/). We have to take care of this error it may cause of prediction errors. Another problem is that there may also be groups of data that are less statistically significant. To check this we have to look our data groups \"P\" value. To solve such problems we have several thecniques.\n",
    "\n",
    "1. All-in\n",
    "2. Backward Elimination\n",
    "3. Forward Elimination\n",
    "4. Bidirectional Elimination\n",
    "5. Score Comparison\n",
    "\n",
    "2, 3 and 4 are called as Stepwise Regression. Luckly scikit_learn module has class that LinearRegression which has amazing methods and tools that can solve the dummy trap and the last problem which we have spoken.\n"
   ]
  },
  {
   "cell_type": "markdown",
   "metadata": {
    "colab_type": "text",
    "id": "pOyqYHTk_Q57"
   },
   "source": [
    "## Importing the libraries"
   ]
  },
  {
   "cell_type": "code",
   "execution_count": 1,
   "metadata": {},
   "outputs": [],
   "source": [
    "import pandas as pd\n",
    "import numpy as np\n",
    "import matplotlib.pyplot as plt"
   ]
  },
  {
   "cell_type": "markdown",
   "metadata": {
    "colab_type": "text",
    "id": "vgC61-ah_WIz"
   },
   "source": [
    "## Importing the dataset"
   ]
  },
  {
   "cell_type": "code",
   "execution_count": 2,
   "metadata": {},
   "outputs": [],
   "source": [
    "dataset = pd.read_csv(\"50_Startups.csv\")\n",
    "x = dataset.iloc[:, :-1].values # features\n",
    "y = dataset.iloc[:, -1].values # dependent values"
   ]
  },
  {
   "cell_type": "markdown",
   "metadata": {
    "colab_type": "text",
    "id": "VadrvE7s_lS9"
   },
   "source": [
    "## Encoding categorical data\n",
    "\n",
    "We have number of categorical values so we'll encode this column."
   ]
  },
  {
   "cell_type": "code",
   "execution_count": 3,
   "metadata": {},
   "outputs": [],
   "source": [
    "from sklearn.compose import ColumnTransformer\n",
    "from sklearn.preprocessing import OneHotEncoder\n",
    "ct = ColumnTransformer(transformers = [('encoder', OneHotEncoder(), [3])], remainder=(\"passthrough\"))\n",
    "x = np.array(ct.fit_transform(x))"
   ]
  },
  {
   "cell_type": "markdown",
   "metadata": {
    "colab_type": "text",
    "id": "WemVnqgeA70k"
   },
   "source": [
    "## Splitting the dataset into the Training set and Test set\n",
    "\n",
    "In multiple linear regression the equation will be like y = b0 + b1X + b2X + b3X... As you may see all the features have it's own coefficient because of that we don't need to do feature scaling."
   ]
  },
  {
   "cell_type": "code",
   "execution_count": 4,
   "metadata": {},
   "outputs": [],
   "source": [
    "from sklearn.model_selection import train_test_split\n",
    "x_train, x_test, y_train, y_test = train_test_split(x, y, test_size = 0.2, random_state = 0)"
   ]
  },
  {
   "cell_type": "markdown",
   "metadata": {
    "colab_type": "text",
    "id": "k-McZVsQBINc"
   },
   "source": [
    "## Training the Multiple Linear Regression model on the Training set\n",
    "\n",
    "Numpy LinearRegression class has amazing tools and methods that can solve automatically \"dummy trap\" and can implement best feature to our model."
   ]
  },
  {
   "cell_type": "code",
   "execution_count": 5,
   "metadata": {},
   "outputs": [
    {
     "data": {
      "text/plain": [
       "LinearRegression()"
      ]
     },
     "execution_count": 5,
     "metadata": {},
     "output_type": "execute_result"
    }
   ],
   "source": [
    "from sklearn.linear_model import LinearRegression\n",
    "regressor = LinearRegression()\n",
    "regressor.fit(x_train, y_train)"
   ]
  },
  {
   "cell_type": "markdown",
   "metadata": {
    "colab_type": "text",
    "id": "xNkXL1YQBiBT"
   },
   "source": [
    "## Predicting the Test set results\n",
    "\n",
    "Since there are several features which has some correlation, we can't easily plot our data set's result. To see our models success we will print them together as a matrix."
   ]
  },
  {
   "cell_type": "code",
   "execution_count": 6,
   "metadata": {},
   "outputs": [
    {
     "name": "stdout",
     "output_type": "stream",
     "text": [
      "[[103282.38 103015.2 ]\n",
      " [144259.4  132582.28]\n",
      " [146121.95 132447.74]\n",
      " [ 77798.83  71976.1 ]\n",
      " [191050.39 178537.48]\n",
      " [105008.31 116161.24]\n",
      " [ 81229.06  67851.69]\n",
      " [ 97483.56  98791.73]\n",
      " [110352.25 113969.44]\n",
      " [166187.94 167921.07]]\n"
     ]
    }
   ],
   "source": [
    "y_pred = regressor.predict(x_test)\n",
    "np.set_printoptions(precision = 2) # precision after . is 2\n",
    "np.set_printoptions(suppress = True) #numpy array won't be printed with scientific notation\n",
    "# we will reshape and concatenate our y_test and y_pred vectors\n",
    "print(np.concatenate((y_test.reshape(len(y_test),1),y_pred.reshape(len(y_pred),1)), 1))"
   ]
  },
  {
   "cell_type": "markdown",
   "metadata": {},
   "source": [
    "## 1. In order to better see the success of our model clearer, we will calculate how many percent wrong each prediction is and add it to our prediction matrix."
   ]
  },
  {
   "cell_type": "code",
   "execution_count": 7,
   "metadata": {},
   "outputs": [],
   "source": [
    "errors = []\n",
    "for i in range(len(y_pred)):\n",
    "    errors.append(((y_test[i]-y_pred[i])*100/y_test[i]))\n",
    "np_errors = np.array(errors).reshape(len(errors),1)\n"
   ]
  },
  {
   "cell_type": "code",
   "execution_count": 8,
   "metadata": {},
   "outputs": [
    {
     "name": "stdout",
     "output_type": "stream",
     "text": [
      "[[103282.38 103015.2       0.26]\n",
      " [144259.4  132582.28      8.09]\n",
      " [146121.95 132447.74      9.36]\n",
      " [ 77798.83  71976.1       7.48]\n",
      " [191050.39 178537.48      6.55]\n",
      " [105008.31 116161.24    -10.62]\n",
      " [ 81229.06  67851.69     16.47]\n",
      " [ 97483.56  98791.73     -1.34]\n",
      " [110352.25 113969.44     -3.28]\n",
      " [166187.94 167921.07     -1.04]]\n"
     ]
    }
   ],
   "source": [
    "print(np.concatenate((y_test.reshape(len(y_test),1),y_pred.reshape(len(y_pred),1),np_errors), 1))"
   ]
  },
  {
   "cell_type": "markdown",
   "metadata": {},
   "source": [
    "## 2. For a second method we can display our y_test and y_pred on scatter graph\n",
    "\n",
    "To do this we will create an array with the exact sample count len(y_pred)=len(y_test). We will also use this array instead of x in the first argument that the scatter function expects. Thus, we will have given a variable that can replace x in y=b0+b1x to the function. We will plot the y_pred and y_test values along with the changing x values. If the blue and red dots match, the values are predicted with a slight error.\n",
    "\n",
    "The function definition is below"
   ]
  },
  {
   "cell_type": "code",
   "execution_count": 9,
   "metadata": {},
   "outputs": [],
   "source": [
    "def disp_pred_and_test(y_pred, y_test):\n",
    "    x = list(range(len(errors)))\n",
    "    plt.scatter(x, y_pred, color = \"red\")\n",
    "    plt.scatter(x, y_test, color = \"blue\")\n",
    "    plt.show()"
   ]
  },
  {
   "cell_type": "code",
   "execution_count": 10,
   "metadata": {},
   "outputs": [
    {
     "data": {
      "image/png": "[encoded data removed]",
      "text/plain": [
       "<Figure size 640x480 with 1 Axes>"
      ]
     },
     "metadata": {},
     "output_type": "display_data"
    }
   ],
   "source": [
    "disp_pred_and_test(y_pred, y_test)"
   ]
  },
  {
   "cell_type": "markdown",
   "metadata": {},
   "source": [
    "## Making a single prediction (for example the profit of a startup with R&D Spend = 160000, Administration Spend = 130000, Marketing Spend = 300000 and State = 'California')"
   ]
  },
  {
   "cell_type": "code",
   "execution_count": 11,
   "metadata": {},
   "outputs": [
    {
     "name": "stdout",
     "output_type": "stream",
     "text": [
      "[181566.92]\n"
     ]
    }
   ],
   "source": [
    "print(regressor.predict([[1, 0, 0, 160000, 130000, 300000]]))"
   ]
  },
  {
   "cell_type": "markdown",
   "metadata": {},
   "source": [
    "Therefore, our model predicts that the profit of a Californian startup which spent 160000 in R&D, 130000 in Administration and 300000 in Marketing is $ 181566,92.\n",
    "\n",
    "**Important note:** Notice also that the \"California\" state was not input as a string in the last column but as \"1, 0, 0\" in the first three columns. That's because of course the predict method expects the one-hot-encoded values of the state, and as we see in the second row of the matrix of features X, \"California\" was encoded as \"1, 0, 0\". And be careful to include these values in the first three columns, not the last three ones, because the dummy variables are always created in the first columns."
   ]
  },
  {
   "cell_type": "markdown",
   "metadata": {},
   "source": [
    "## Getting the final linear regression equation with the values of the coefficients"
   ]
  },
  {
   "cell_type": "code",
   "execution_count": 12,
   "metadata": {},
   "outputs": [
    {
     "name": "stdout",
     "output_type": "stream",
     "text": [
      "[  86.64 -872.65  786.01    0.77    0.03    0.04]\n",
      "42467.529248581035\n"
     ]
    }
   ],
   "source": [
    "print(regressor.coef_)\n",
    "print(regressor.intercept_)"
   ]
  },
  {
   "cell_type": "markdown",
   "metadata": {},
   "source": [
    "Therefore, the equation of our multiple linear regression model is:\n",
    "\n",
    "Profit=86.6×Dummy State 1−873×Dummy State 2+786×Dummy State 3+0.773×R&D Spend+0.0329×Administration+0.0366×Marketing Spend+42467.53\n",
    "\n",
    "Important Note: To get these coefficients we called the \"coef_\" and \"intercept_\" attributes from our regressor object. Attributes in Python are different than methods and usually return a simple value or an array of values."
   ]
  }
 ],
 "metadata": {
  "colab": {
   "authorship_tag": "ABX9TyPhYhte6t7H4wEK4xPpDWT7",
   "name": "Multiple Linear Regression",
   "provenance": [],
   "toc_visible": true
  },
  "kernelspec": {
   "display_name": "Python 3 (ipykernel)",
   "language": "python",
   "name": "python3"
  },
  "language_info": {
   "codemirror_mode": {
    "name": "ipython",
    "version": 3
   },
   "file_extension": ".py",
   "mimetype": "text/x-python",
   "name": "python",
   "nbconvert_exporter": "python",
   "pygments_lexer": "ipython3",
   "version": "3.9.13"
  },
  "vscode": {
   "interpreter": {
    "hash": "916dbcbb3f70747c44a77c7bcd40155683ae19c65e1c03b4aa3499c5328201f1"
   }
  }
 },
 "nbformat": 4,
 "nbformat_minor": 1
}

{
 "cells": [
  {
   "cell_type": "markdown",
   "metadata": {
    "id": "0MRC0e0KhQ0S"
   },
   "source": [
    "# Support Vector Machine (SVM)"
   ]
  },
  {
   "cell_type": "markdown",
   "metadata": {
    "id": "LWd1UlMnhT2s"
   },
   "source": [
    "## Importing the libraries"
   ]
  },
  {
   "cell_type": "code",
   "execution_count": 1,
   "metadata": {},
   "outputs": [],
   "source": [
    "import pandas as pd\n",
    "import numpy as np\n",
    "import matplotlib.pyplot as plt"
   ]
  },
  {
   "cell_type": "markdown",
   "metadata": {
    "id": "K1VMqkGvhc3-"
   },
   "source": [
    "## Importing the dataset"
   ]
  },
  {
   "cell_type": "code",
   "execution_count": 2,
   "metadata": {},
   "outputs": [],
   "source": [
    "dataset = pd.read_csv(\"Social_Network_Ads.csv\")\n",
    "x = dataset.iloc[:, :-1].values\n",
    "y = dataset.iloc[:, -1].values"
   ]
  },
  {
   "cell_type": "markdown",
   "metadata": {
    "id": "YvxIPVyMhmKp"
   },
   "source": [
    "## Splitting the dataset into the Training set and Test set"
   ]
  },
  {
   "cell_type": "code",
   "execution_count": 3,
   "metadata": {},
   "outputs": [],
   "source": [
    "from sklearn.model_selection import train_test_split\n",
    "x_train, x_test, y_train, y_test = train_test_split(x, y, test_size = 0.25, random_state = 0)"
   ]
  },
  {
   "cell_type": "markdown",
   "metadata": {
    "id": "kW3c7UYih0hT"
   },
   "source": [
    "## Feature Scaling"
   ]
  },
  {
   "cell_type": "code",
   "execution_count": 4,
   "metadata": {},
   "outputs": [],
   "source": [
    "from sklearn.preprocessing import StandardScaler\n",
    "sc = StandardScaler()\n",
    "x_train = sc.fit_transform(x_train)\n",
    "x_test = sc.transform(x_test)"
   ]
  },
  {
   "cell_type": "code",
   "execution_count": 5,
   "metadata": {},
   "outputs": [
    {
     "name": "stdout",
     "output_type": "stream",
     "text": [
      "[[ 0.58164944 -0.88670699]\n",
      " [-0.60673761  1.46173768]\n",
      " [-0.01254409 -0.5677824 ]\n",
      " [-0.60673761  1.89663484]\n",
      " [ 1.37390747 -1.40858358]\n",
      " [ 1.47293972  0.99784738]\n",
      " [ 0.08648817 -0.79972756]\n",
      " [-0.01254409 -0.24885782]\n",
      " [-0.21060859 -0.5677824 ]\n",
      " [-0.21060859 -0.19087153]\n",
      " [-0.30964085 -1.29261101]\n",
      " [-0.30964085 -0.5677824 ]\n",
      " [ 0.38358493  0.09905991]\n",
      " [ 0.8787462  -0.59677555]\n",
      " [ 2.06713324 -1.17663843]\n",
      " [ 1.07681071 -0.13288524]\n",
      " [ 0.68068169  1.78066227]\n",
      " [-0.70576986  0.56295021]\n",
      " [ 0.77971394  0.35999821]\n",
      " [ 0.8787462  -0.53878926]\n",
      " [-1.20093113 -1.58254245]\n",
      " [ 2.1661655   0.93986109]\n",
      " [-0.01254409  1.22979253]\n",
      " [ 0.18552042  1.08482681]\n",
      " [ 0.38358493 -0.48080297]\n",
      " [-0.30964085 -0.30684411]\n",
      " [ 0.97777845 -0.8287207 ]\n",
      " [ 0.97777845  1.8676417 ]\n",
      " [-0.01254409  1.25878567]\n",
      " [-0.90383437  2.27354572]\n",
      " [-1.20093113 -1.58254245]\n",
      " [ 2.1661655  -0.79972756]\n",
      " [-1.39899564 -1.46656987]\n",
      " [ 0.38358493  2.30253886]\n",
      " [ 0.77971394  0.76590222]\n",
      " [-1.00286662 -0.30684411]\n",
      " [ 0.08648817  0.76590222]\n",
      " [-1.00286662  0.56295021]\n",
      " [ 0.28455268  0.07006676]\n",
      " [ 0.68068169 -1.26361786]\n",
      " [-0.50770535 -0.01691267]\n",
      " [-1.79512465  0.35999821]\n",
      " [-0.70576986  0.12805305]\n",
      " [ 0.38358493  0.30201192]\n",
      " [-0.30964085  0.07006676]\n",
      " [-0.50770535  2.30253886]\n",
      " [ 0.18552042  0.04107362]\n",
      " [ 1.27487521  2.21555943]\n",
      " [ 0.77971394  0.27301877]\n",
      " [-0.30964085  0.1570462 ]\n",
      " [-0.01254409 -0.53878926]\n",
      " [-0.21060859  0.1570462 ]\n",
      " [-0.11157634  0.24402563]\n",
      " [-0.01254409 -0.24885782]\n",
      " [ 2.1661655   1.11381995]\n",
      " [-1.79512465  0.35999821]\n",
      " [ 1.86906873  0.12805305]\n",
      " [ 0.38358493 -0.13288524]\n",
      " [-1.20093113  0.30201192]\n",
      " [ 0.77971394  1.37475825]\n",
      " [-0.30964085 -0.24885782]\n",
      " [-1.6960924  -0.04590581]\n",
      " [-1.00286662 -0.74174127]\n",
      " [ 0.28455268  0.50496393]\n",
      " [-0.11157634 -1.06066585]\n",
      " [-1.10189888  0.59194336]\n",
      " [ 0.08648817 -0.79972756]\n",
      " [-1.00286662  1.54871711]\n",
      " [-0.70576986  1.40375139]\n",
      " [-1.29996338  0.50496393]\n",
      " [-0.30964085  0.04107362]\n",
      " [-0.11157634  0.01208048]\n",
      " [-0.30964085 -0.88670699]\n",
      " [ 0.8787462  -1.3505973 ]\n",
      " [-0.30964085  2.24455257]\n",
      " [ 0.97777845  1.98361427]\n",
      " [-1.20093113  0.47597078]\n",
      " [-1.29996338  0.27301877]\n",
      " [ 1.37390747  1.98361427]\n",
      " [ 1.27487521 -1.3505973 ]\n",
      " [-0.30964085 -0.27785096]\n",
      " [-0.50770535  1.25878567]\n",
      " [-0.80480212  1.08482681]\n",
      " [ 0.97777845 -1.06066585]\n",
      " [ 0.28455268  0.30201192]\n",
      " [ 0.97777845  0.76590222]\n",
      " [-0.70576986 -1.49556302]\n",
      " [-0.70576986  0.04107362]\n",
      " [ 0.48261718  1.72267598]\n",
      " [ 2.06713324  0.18603934]\n",
      " [-1.99318916 -0.74174127]\n",
      " [-0.21060859  1.40375139]\n",
      " [ 0.38358493  0.59194336]\n",
      " [ 0.8787462  -1.14764529]\n",
      " [-1.20093113 -0.77073441]\n",
      " [ 0.18552042  0.24402563]\n",
      " [ 0.77971394 -0.30684411]\n",
      " [ 2.06713324 -0.79972756]\n",
      " [ 0.77971394  0.12805305]\n",
      " [-0.30964085  0.6209365 ]\n",
      " [-1.00286662 -0.30684411]\n",
      " [ 0.18552042 -0.3648304 ]\n",
      " [ 2.06713324  2.12857999]\n",
      " [ 1.86906873 -1.26361786]\n",
      " [ 1.37390747 -0.91570013]\n",
      " [ 0.8787462   1.25878567]\n",
      " [ 1.47293972  2.12857999]\n",
      " [-0.30964085 -1.23462472]\n",
      " [ 1.96810099  0.91086794]\n",
      " [ 0.68068169 -0.71274813]\n",
      " [-1.49802789  0.35999821]\n",
      " [ 0.77971394 -1.3505973 ]\n",
      " [ 0.38358493 -0.13288524]\n",
      " [-1.00286662  0.41798449]\n",
      " [-0.01254409 -0.30684411]\n",
      " [-1.20093113  0.41798449]\n",
      " [-0.90383437 -1.20563157]\n",
      " [-0.11157634  0.04107362]\n",
      " [-1.59706014 -0.42281668]\n",
      " [ 0.97777845 -1.00267957]\n",
      " [ 1.07681071 -1.20563157]\n",
      " [-0.01254409 -0.13288524]\n",
      " [-1.10189888 -1.52455616]\n",
      " [ 0.77971394 -1.20563157]\n",
      " [ 0.97777845  2.07059371]\n",
      " [-1.20093113 -1.52455616]\n",
      " [-0.30964085  0.79489537]\n",
      " [ 0.08648817 -0.30684411]\n",
      " [-1.39899564 -1.23462472]\n",
      " [-0.60673761 -1.49556302]\n",
      " [ 0.77971394  0.53395707]\n",
      " [-0.30964085 -0.33583725]\n",
      " [ 1.77003648 -0.27785096]\n",
      " [ 0.8787462  -1.03167271]\n",
      " [ 0.18552042  0.07006676]\n",
      " [-0.60673761  0.8818748 ]\n",
      " [-1.89415691 -1.40858358]\n",
      " [-1.29996338  0.59194336]\n",
      " [-0.30964085  0.53395707]\n",
      " [-1.00286662 -1.089659  ]\n",
      " [ 1.17584296 -1.43757673]\n",
      " [ 0.18552042 -0.30684411]\n",
      " [ 1.17584296 -0.74174127]\n",
      " [-0.30964085  0.07006676]\n",
      " [ 0.18552042  2.09958685]\n",
      " [ 0.77971394 -1.089659  ]\n",
      " [ 0.08648817  0.04107362]\n",
      " [-1.79512465  0.12805305]\n",
      " [-0.90383437  0.1570462 ]\n",
      " [-0.70576986  0.18603934]\n",
      " [ 0.8787462  -1.29261101]\n",
      " [ 0.18552042 -0.24885782]\n",
      " [-0.4086731   1.22979253]\n",
      " [-0.01254409  0.30201192]\n",
      " [ 0.38358493  0.1570462 ]\n",
      " [ 0.8787462  -0.65476184]\n",
      " [ 0.08648817  0.1570462 ]\n",
      " [-1.89415691 -1.29261101]\n",
      " [-0.11157634  0.30201192]\n",
      " [-0.21060859 -0.27785096]\n",
      " [ 0.28455268 -0.50979612]\n",
      " [-0.21060859  1.6067034 ]\n",
      " [ 0.97777845 -1.17663843]\n",
      " [-0.21060859  1.63569655]\n",
      " [ 1.27487521  1.8676417 ]\n",
      " [-1.10189888 -0.3648304 ]\n",
      " [-0.01254409  0.04107362]\n",
      " [ 0.08648817 -0.24885782]\n",
      " [-1.59706014 -1.23462472]\n",
      " [-0.50770535 -0.27785096]\n",
      " [ 0.97777845  0.12805305]\n",
      " [ 1.96810099 -1.3505973 ]\n",
      " [ 1.47293972  0.07006676]\n",
      " [-0.60673761  1.37475825]\n",
      " [ 1.57197197  0.01208048]\n",
      " [-0.80480212  0.30201192]\n",
      " [ 1.96810099  0.73690908]\n",
      " [-1.20093113 -0.50979612]\n",
      " [ 0.68068169  0.27301877]\n",
      " [-1.39899564 -0.42281668]\n",
      " [ 0.18552042  0.1570462 ]\n",
      " [-0.50770535 -1.20563157]\n",
      " [ 0.58164944  2.01260742]\n",
      " [-1.59706014 -1.49556302]\n",
      " [-0.50770535 -0.53878926]\n",
      " [ 0.48261718  1.83864855]\n",
      " [-1.39899564 -1.089659  ]\n",
      " [ 0.77971394 -1.37959044]\n",
      " [-0.30964085 -0.42281668]\n",
      " [ 1.57197197  0.99784738]\n",
      " [ 0.97777845  1.43274454]\n",
      " [-0.30964085 -0.48080297]\n",
      " [-0.11157634  2.15757314]\n",
      " [-1.49802789 -0.1038921 ]\n",
      " [-0.11157634  1.95462113]\n",
      " [-0.70576986 -0.33583725]\n",
      " [-0.50770535 -0.8287207 ]\n",
      " [ 0.68068169 -1.37959044]\n",
      " [-0.80480212 -1.58254245]\n",
      " [-1.89415691 -1.46656987]\n",
      " [ 1.07681071  0.12805305]\n",
      " [ 0.08648817  1.51972397]\n",
      " [-0.30964085  0.09905991]\n",
      " [ 0.08648817  0.04107362]\n",
      " [-1.39899564 -1.3505973 ]\n",
      " [ 0.28455268  0.07006676]\n",
      " [-0.90383437  0.38899135]\n",
      " [ 1.57197197 -1.26361786]\n",
      " [-0.30964085 -0.74174127]\n",
      " [-0.11157634  0.1570462 ]\n",
      " [-0.90383437 -0.65476184]\n",
      " [-0.70576986 -0.04590581]\n",
      " [ 0.38358493 -0.45180983]\n",
      " [-0.80480212  1.89663484]\n",
      " [ 1.37390747  1.28777882]\n",
      " [ 1.17584296 -0.97368642]\n",
      " [ 1.77003648  1.83864855]\n",
      " [-0.90383437 -0.24885782]\n",
      " [-0.80480212  0.56295021]\n",
      " [-1.20093113 -1.5535493 ]\n",
      " [-0.50770535 -1.11865214]\n",
      " [ 0.28455268  0.07006676]\n",
      " [-0.21060859 -1.06066585]\n",
      " [ 1.67100423  1.6067034 ]\n",
      " [ 0.97777845  1.78066227]\n",
      " [ 0.28455268  0.04107362]\n",
      " [-0.80480212 -0.21986468]\n",
      " [-0.11157634  0.07006676]\n",
      " [ 0.28455268 -0.19087153]\n",
      " [ 1.96810099 -0.65476184]\n",
      " [-0.80480212  1.3457651 ]\n",
      " [-1.79512465 -0.59677555]\n",
      " [-0.11157634  0.12805305]\n",
      " [ 0.28455268 -0.30684411]\n",
      " [ 1.07681071  0.56295021]\n",
      " [-1.00286662  0.27301877]\n",
      " [ 1.47293972  0.35999821]\n",
      " [ 0.18552042 -0.3648304 ]\n",
      " [ 2.1661655  -1.03167271]\n",
      " [-0.30964085  1.11381995]\n",
      " [-1.6960924   0.07006676]\n",
      " [-0.01254409  0.04107362]\n",
      " [ 0.08648817  1.05583366]\n",
      " [-0.11157634 -0.3648304 ]\n",
      " [-1.20093113  0.07006676]\n",
      " [-0.30964085 -1.3505973 ]\n",
      " [ 1.57197197  1.11381995]\n",
      " [-0.80480212 -1.52455616]\n",
      " [ 0.08648817  1.8676417 ]\n",
      " [-0.90383437 -0.77073441]\n",
      " [-0.50770535 -0.77073441]\n",
      " [-0.30964085 -0.91570013]\n",
      " [ 0.28455268 -0.71274813]\n",
      " [ 0.28455268  0.07006676]\n",
      " [ 0.08648817  1.8676417 ]\n",
      " [-1.10189888  1.95462113]\n",
      " [-1.6960924  -1.5535493 ]\n",
      " [-1.20093113 -1.089659  ]\n",
      " [-0.70576986 -0.1038921 ]\n",
      " [ 0.08648817  0.09905991]\n",
      " [ 0.28455268  0.27301877]\n",
      " [ 0.8787462  -0.5677824 ]\n",
      " [ 0.28455268 -1.14764529]\n",
      " [-0.11157634  0.67892279]\n",
      " [ 2.1661655  -0.68375498]\n",
      " [-1.29996338 -1.37959044]\n",
      " [-1.00286662 -0.94469328]\n",
      " [-0.01254409 -0.42281668]\n",
      " [-0.21060859 -0.45180983]\n",
      " [-1.79512465 -0.97368642]\n",
      " [ 1.77003648  0.99784738]\n",
      " [ 0.18552042 -0.3648304 ]\n",
      " [ 0.38358493  1.11381995]\n",
      " [-1.79512465 -1.3505973 ]\n",
      " [ 0.18552042 -0.13288524]\n",
      " [ 0.8787462  -1.43757673]\n",
      " [-1.99318916  0.47597078]\n",
      " [-0.30964085  0.27301877]\n",
      " [ 1.86906873 -1.06066585]\n",
      " [-0.4086731   0.07006676]\n",
      " [ 1.07681071 -0.88670699]\n",
      " [-1.10189888 -1.11865214]\n",
      " [-1.89415691  0.01208048]\n",
      " [ 0.08648817  0.27301877]\n",
      " [-1.20093113  0.33100506]\n",
      " [-1.29996338  0.30201192]\n",
      " [-1.00286662  0.44697764]\n",
      " [ 1.67100423 -0.88670699]\n",
      " [ 1.17584296  0.53395707]\n",
      " [ 1.07681071  0.53395707]\n",
      " [ 1.37390747  2.331532  ]\n",
      " [-0.30964085 -0.13288524]\n",
      " [ 0.38358493 -0.45180983]\n",
      " [-0.4086731  -0.77073441]\n",
      " [-0.11157634 -0.50979612]\n",
      " [ 0.97777845 -1.14764529]\n",
      " [-0.90383437 -0.77073441]\n",
      " [-0.21060859 -0.50979612]\n",
      " [-1.10189888 -0.45180983]\n",
      " [-1.20093113  1.40375139]]\n"
     ]
    }
   ],
   "source": [
    "print(x_train)"
   ]
  },
  {
   "cell_type": "code",
   "execution_count": 6,
   "metadata": {},
   "outputs": [
    {
     "name": "stdout",
     "output_type": "stream",
     "text": [
      "[[-0.80480212  0.50496393]\n",
      " [-0.01254409 -0.5677824 ]\n",
      " [-0.30964085  0.1570462 ]\n",
      " [-0.80480212  0.27301877]\n",
      " [-0.30964085 -0.5677824 ]\n",
      " [-1.10189888 -1.43757673]\n",
      " [-0.70576986 -1.58254245]\n",
      " [-0.21060859  2.15757314]\n",
      " [-1.99318916 -0.04590581]\n",
      " [ 0.8787462  -0.77073441]\n",
      " [-0.80480212 -0.59677555]\n",
      " [-1.00286662 -0.42281668]\n",
      " [-0.11157634 -0.42281668]\n",
      " [ 0.08648817  0.21503249]\n",
      " [-1.79512465  0.47597078]\n",
      " [-0.60673761  1.37475825]\n",
      " [-0.11157634  0.21503249]\n",
      " [-1.89415691  0.44697764]\n",
      " [ 1.67100423  1.75166912]\n",
      " [-0.30964085 -1.37959044]\n",
      " [-0.30964085 -0.65476184]\n",
      " [ 0.8787462   2.15757314]\n",
      " [ 0.28455268 -0.53878926]\n",
      " [ 0.8787462   1.02684052]\n",
      " [-1.49802789 -1.20563157]\n",
      " [ 1.07681071  2.07059371]\n",
      " [-1.00286662  0.50496393]\n",
      " [-0.90383437  0.30201192]\n",
      " [-0.11157634 -0.21986468]\n",
      " [-0.60673761  0.47597078]\n",
      " [-1.6960924   0.53395707]\n",
      " [-0.11157634  0.27301877]\n",
      " [ 1.86906873 -0.27785096]\n",
      " [-0.11157634 -0.48080297]\n",
      " [-1.39899564 -0.33583725]\n",
      " [-1.99318916 -0.50979612]\n",
      " [-1.59706014  0.33100506]\n",
      " [-0.4086731  -0.77073441]\n",
      " [-0.70576986 -1.03167271]\n",
      " [ 1.07681071 -0.97368642]\n",
      " [-1.10189888  0.53395707]\n",
      " [ 0.28455268 -0.50979612]\n",
      " [-1.10189888  0.41798449]\n",
      " [-0.30964085 -1.43757673]\n",
      " [ 0.48261718  1.22979253]\n",
      " [-1.10189888 -0.33583725]\n",
      " [-0.11157634  0.30201192]\n",
      " [ 1.37390747  0.59194336]\n",
      " [-1.20093113 -1.14764529]\n",
      " [ 1.07681071  0.47597078]\n",
      " [ 1.86906873  1.51972397]\n",
      " [-0.4086731  -1.29261101]\n",
      " [-0.30964085 -0.3648304 ]\n",
      " [-0.4086731   1.31677196]\n",
      " [ 2.06713324  0.53395707]\n",
      " [ 0.68068169 -1.089659  ]\n",
      " [-0.90383437  0.38899135]\n",
      " [-1.20093113  0.30201192]\n",
      " [ 1.07681071 -1.20563157]\n",
      " [-1.49802789 -1.43757673]\n",
      " [-0.60673761 -1.49556302]\n",
      " [ 2.1661655  -0.79972756]\n",
      " [-1.89415691  0.18603934]\n",
      " [-0.21060859  0.85288166]\n",
      " [-1.89415691 -1.26361786]\n",
      " [ 2.1661655   0.38899135]\n",
      " [-1.39899564  0.56295021]\n",
      " [-1.10189888 -0.33583725]\n",
      " [ 0.18552042 -0.65476184]\n",
      " [ 0.38358493  0.01208048]\n",
      " [-0.60673761  2.331532  ]\n",
      " [-0.30964085  0.21503249]\n",
      " [-1.59706014 -0.19087153]\n",
      " [ 0.68068169 -1.37959044]\n",
      " [-1.10189888  0.56295021]\n",
      " [-1.99318916  0.35999821]\n",
      " [ 0.38358493  0.27301877]\n",
      " [ 0.18552042 -0.27785096]\n",
      " [ 1.47293972 -1.03167271]\n",
      " [ 0.8787462   1.08482681]\n",
      " [ 1.96810099  2.15757314]\n",
      " [ 2.06713324  0.38899135]\n",
      " [-1.39899564 -0.42281668]\n",
      " [-1.20093113 -1.00267957]\n",
      " [ 1.96810099 -0.91570013]\n",
      " [ 0.38358493  0.30201192]\n",
      " [ 0.18552042  0.1570462 ]\n",
      " [ 2.06713324  1.75166912]\n",
      " [ 0.77971394 -0.8287207 ]\n",
      " [ 0.28455268 -0.27785096]\n",
      " [ 0.38358493 -0.16187839]\n",
      " [-0.11157634  2.21555943]\n",
      " [-1.49802789 -0.62576869]\n",
      " [-1.29996338 -1.06066585]\n",
      " [-1.39899564  0.41798449]\n",
      " [-1.10189888  0.76590222]\n",
      " [-1.49802789 -0.19087153]\n",
      " [ 0.97777845 -1.06066585]\n",
      " [ 0.97777845  0.59194336]\n",
      " [ 0.38358493  0.99784738]]\n"
     ]
    }
   ],
   "source": [
    "print(x_test)"
   ]
  },
  {
   "cell_type": "markdown",
   "metadata": {
    "id": "bb6jCOCQiAmP"
   },
   "source": [
    "## Training the SVM model on the Training set\n",
    "\n",
    "You can use both implemantation they are same."
   ]
  },
  {
   "cell_type": "code",
   "execution_count": 7,
   "metadata": {},
   "outputs": [
    {
     "data": {
      "text/plain": [
       "SVC(kernel='linear', random_state=0)"
      ]
     },
     "execution_count": 7,
     "metadata": {},
     "output_type": "execute_result"
    }
   ],
   "source": [
    "from sklearn.svm import SVC\n",
    "classifier = SVC(random_state = 0, kernel = \"linear\")\n",
    "classifier.fit(x_train, y_train)"
   ]
  },
  {
   "cell_type": "code",
   "execution_count": 8,
   "metadata": {},
   "outputs": [],
   "source": [
    "#from sklearn.svm import LinearSVC\n",
    "#classifier = LinearSVC(random_state = 0)\n",
    "#classifier.fit(x_train, y_train)"
   ]
  },
  {
   "cell_type": "markdown",
   "metadata": {
    "id": "yyxW5b395mR2"
   },
   "source": [
    "## Predicting a new result"
   ]
  },
  {
   "cell_type": "code",
   "execution_count": 9,
   "metadata": {},
   "outputs": [
    {
     "name": "stdout",
     "output_type": "stream",
     "text": [
      "[1]\n"
     ]
    }
   ],
   "source": [
    "print(classifier.predict([[30, 87000]]))"
   ]
  },
  {
   "cell_type": "markdown",
   "metadata": {
    "id": "vKYVQH-l5NpE"
   },
   "source": [
    "## Predicting the Test set results"
   ]
  },
  {
   "cell_type": "code",
   "execution_count": 10,
   "metadata": {},
   "outputs": [
    {
     "name": "stdout",
     "output_type": "stream",
     "text": [
      "[[0 0]\n",
      " [0 0]\n",
      " [0 0]\n",
      " [0 0]\n",
      " [0 0]\n",
      " [0 0]\n",
      " [0 0]\n",
      " [1 1]\n",
      " [0 0]\n",
      " [0 0]\n",
      " [0 0]\n",
      " [0 0]\n",
      " [0 0]\n",
      " [0 0]\n",
      " [0 0]\n",
      " [0 0]\n",
      " [0 0]\n",
      " [0 0]\n",
      " [1 1]\n",
      " [0 0]\n",
      " [0 0]\n",
      " [1 1]\n",
      " [0 0]\n",
      " [1 1]\n",
      " [0 0]\n",
      " [1 1]\n",
      " [0 0]\n",
      " [0 0]\n",
      " [0 0]\n",
      " [0 0]\n",
      " [0 0]\n",
      " [0 1]\n",
      " [1 1]\n",
      " [0 0]\n",
      " [0 0]\n",
      " [0 0]\n",
      " [0 0]\n",
      " [0 0]\n",
      " [0 0]\n",
      " [1 1]\n",
      " [0 0]\n",
      " [0 0]\n",
      " [0 0]\n",
      " [0 0]\n",
      " [1 1]\n",
      " [0 0]\n",
      " [0 0]\n",
      " [1 1]\n",
      " [0 0]\n",
      " [1 1]\n",
      " [1 1]\n",
      " [0 0]\n",
      " [0 0]\n",
      " [0 0]\n",
      " [1 1]\n",
      " [0 1]\n",
      " [0 0]\n",
      " [0 0]\n",
      " [0 1]\n",
      " [0 0]\n",
      " [0 0]\n",
      " [1 1]\n",
      " [0 0]\n",
      " [0 1]\n",
      " [0 0]\n",
      " [1 1]\n",
      " [0 0]\n",
      " [0 0]\n",
      " [0 0]\n",
      " [0 0]\n",
      " [1 1]\n",
      " [0 0]\n",
      " [0 0]\n",
      " [0 1]\n",
      " [0 0]\n",
      " [0 0]\n",
      " [1 0]\n",
      " [0 0]\n",
      " [1 1]\n",
      " [1 1]\n",
      " [1 1]\n",
      " [1 0]\n",
      " [0 0]\n",
      " [0 0]\n",
      " [1 1]\n",
      " [1 1]\n",
      " [0 0]\n",
      " [1 1]\n",
      " [0 1]\n",
      " [0 0]\n",
      " [0 0]\n",
      " [1 1]\n",
      " [0 0]\n",
      " [0 0]\n",
      " [0 0]\n",
      " [0 1]\n",
      " [0 0]\n",
      " [0 1]\n",
      " [1 1]\n",
      " [1 1]]\n"
     ]
    }
   ],
   "source": [
    "y_pred = classifier.predict(x_test)\n",
    "print(np.concatenate((y_pred.reshape(-1, 1), y_test.reshape(-1, 1)), axis = 1))"
   ]
  },
  {
   "cell_type": "markdown",
   "metadata": {
    "id": "h4Hwj34ziWQW"
   },
   "source": [
    "## Making the Confusion Matrix"
   ]
  },
  {
   "cell_type": "code",
   "execution_count": 11,
   "metadata": {},
   "outputs": [
    {
     "name": "stdout",
     "output_type": "stream",
     "text": [
      "[[66  2]\n",
      " [ 8 24]]\n",
      "0.9\n"
     ]
    }
   ],
   "source": [
    "from sklearn.metrics import confusion_matrix, accuracy_score\n",
    "cm = confusion_matrix(y_test, y_pred)\n",
    "print(cm)\n",
    "print(accuracy_score(y_test, y_pred))"
   ]
  },
  {
   "cell_type": "markdown",
   "metadata": {
    "id": "6OMC_P0diaoD"
   },
   "source": [
    "## Visualising the Training set results"
   ]
  },
  {
   "cell_type": "code",
   "execution_count": 12,
   "metadata": {},
   "outputs": [
    {
     "data": {
      "image/png": "[encoded data removed]",
      "text/plain": [
       "<Figure size 640x480 with 1 Axes>"
      ]
     },
     "metadata": {},
     "output_type": "display_data"
    }
   ],
   "source": [
    "from matplotlib.colors import ListedColormap\n",
    "X_set, y_set = sc.inverse_transform(x_train), y_train\n",
    "X1, X2 = np.meshgrid(np.arange(start = X_set[:, 0].min() - 10, stop = X_set[:, 0].max() + 10, step = 1),\n",
    "                     np.arange(start = X_set[:, 1].min() - 1000, stop = X_set[:, 1].max() + 1000, step = 1))\n",
    "plt.contourf(X1, X2, classifier.predict(sc.transform(np.array([X1.ravel(), X2.ravel()]).T)).reshape(X1.shape),\n",
    "             alpha = 0.75, cmap = ListedColormap(('salmon', 'dodgerblue')))\n",
    "plt.xlim(X1.min(), X1.max())\n",
    "plt.ylim(X2.min(), X2.max())\n",
    "Color_map=[\"salmon\", \"dodgerblue\"]\n",
    "for i, j in enumerate(np.unique(y_set)):\n",
    "    plt.scatter(X_set[y_set == j, 0], X_set[y_set == j, 1], c = Color_map[i], label = j)\n",
    "plt.title('Logistic Regression (Test set)')\n",
    "plt.xlabel('Age')\n",
    "plt.ylabel('Estimated Salary')\n",
    "plt.legend()\n",
    "plt.show()"
   ]
  },
  {
   "cell_type": "markdown",
   "metadata": {
    "id": "SZ-j28aPihZx"
   },
   "source": [
    "## Visualising the Test set results"
   ]
  },
  {
   "cell_type": "code",
   "execution_count": null,
   "metadata": {},
   "outputs": [],
   "source": [
    "from matplotlib.colors import ListedColormap\n",
    "X_set, y_set = sc.inverse_transform(x_test), y_test\n",
    "X1, X2 = np.meshgrid(np.arange(start = X_set[:, 0].min() - 10, stop = X_set[:, 0].max() + 10, step = 1),\n",
    "                     np.arange(start = X_set[:, 1].min() - 1000, stop = X_set[:, 1].max() + 1000, step = 1))\n",
    "plt.contourf(X1, X2, classifier.predict(sc.transform(np.array([X1.ravel(), X2.ravel()]).T)).reshape(X1.shape),\n",
    "             alpha = 0.75, cmap = ListedColormap(('salmon', 'dodgerblue')))\n",
    "plt.xlim(X1.min(), X1.max())\n",
    "plt.ylim(X2.min(), X2.max())\n",
    "Color_map=[\"salmon\", \"dodgerblue\"]\n",
    "for i, j in enumerate(np.unique(y_set)):\n",
    "    plt.scatter(X_set[y_set == j, 0], X_set[y_set == j, 1], c = Color_map[i], label = j)\n",
    "plt.title('Logistic Regression (Test set)')\n",
    "plt.xlabel('Age')\n",
    "plt.ylabel('Estimated Salary')\n",
    "plt.legend()\n",
    "plt.show()"
   ]
  },
  {
   "cell_type": "markdown",
   "metadata": {},
   "source": [
    "## Computing the accuracy with k-Fold Cross Validation"
   ]
  },
  {
   "cell_type": "code",
   "execution_count": null,
   "metadata": {},
   "outputs": [],
   "source": [
    "from sklearn.model_selection import cross_val_score\n",
    "accuracies = cross_val_score(estimator = classifier, X = x_train, y = y_train, cv = 10)\n",
    "print(\"Accuracy: {:.2f} %\".format(accuracies.mean()*100))\n",
    "print(\"Standard Deviation: {:.2f} %\".format(accuracies.std()*100))"
   ]
  }
 ],
 "metadata": {
  "colab": {
   "authorship_tag": "ABX9TyMgnogy4MthjceNfhB196rJ",
   "collapsed_sections": [],
   "machine_shape": "hm",
   "provenance": []
  },
  "kernelspec": {
   "display_name": "Python 3 (ipykernel)",
   "language": "python",
   "name": "python3"
  },
  "language_info": {
   "codemirror_mode": {
    "name": "ipython",
    "version": 3
   },
   "file_extension": ".py",
   "mimetype": "text/x-python",
   "name": "python",
   "nbconvert_exporter": "python",
   "pygments_lexer": "ipython3",
   "version": "3.9.13"
  }
 },
 "nbformat": 4,
 "nbformat_minor": 1
}
